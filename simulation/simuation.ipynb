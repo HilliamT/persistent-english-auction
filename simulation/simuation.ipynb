{
 "cells": [
  {
   "cell_type": "markdown",
   "metadata": {},
   "source": [
    "# Persistent English Auctions - Simulation\n",
    "\n",
    "A sequential clearing auction mechanism inspired by English auctions for maximising bid transparency and revenue.\n",
    "\n",
    "We consider the situation in which a NFT artist would like to sell a collection of NFTs. They do not know what would be a fair price and thus resort to an auction.\n",
    "\n",
    "In a persistent English auction, the auctioneer decides the rate at which NFTs should be sold at e.g 1 NFT per hour. Whilst the auction is active, potential buyers can register bids. In theory, at the end of every hour (a clearing round), a sale is made to the highest bidder. This is done until all pieces are sold.\n",
    "\n",
    "Lazy evaluation is used to amortise the cost of operating the auction on the blockchain. Before a bid is made, the time gap between the previous transaction is calculated to see if any previous clearing rounds need to be processed. This is inspired by the concept of virtual orders used in [TWAMMs](https://www.paradigm.xyz/2021/07/twamm#the-time-weighted-average-market-maker).\n",
    "\n",
    "Upon auction close, participants can mint their NFTs and/or claim their funds from unsuccessful bids.\n",
    "\n",
    "This notebook simulates the running of a persistent English auction due to the simple mechanism to choose the winner every clearing round."
   ]
  },
  {
   "cell_type": "markdown",
   "metadata": {},
   "source": [
    "## Dependencies"
   ]
  },
  {
   "cell_type": "code",
   "execution_count": 1,
   "metadata": {},
   "outputs": [
    {
     "name": "stdout",
     "output_type": "stream",
     "text": [
      "Collecting names\n",
      "  Downloading names-0.3.0.tar.gz (789 kB)\n",
      "\u001b[2K     \u001b[90m━━━━━━━━━━━━━━━━━━━━━━━━━━━━━━━━━━━━━━━\u001b[0m \u001b[32m789.1/789.1 KB\u001b[0m \u001b[31m4.3 MB/s\u001b[0m eta \u001b[36m0:00:00\u001b[0ma \u001b[36m0:00:01\u001b[0m\n",
      "\u001b[?25h  Preparing metadata (setup.py) ... \u001b[?25ldone\n",
      "\u001b[?25hBuilding wheels for collected packages: names\n",
      "  Building wheel for names (setup.py) ... \u001b[?25ldone\n",
      "\u001b[?25h  Created wheel for names: filename=names-0.3.0-py3-none-any.whl size=803701 sha256=e49ceacca521ac9586fb65538c03ed9e7a75fe5cc04edba5ee270343186801be\n",
      "  Stored in directory: /home/jovyan/.cache/pip/wheels/f1/bc/04/55ab9499ea02359ece8b02b4169ebb30aa52d82b84c13fc506\n",
      "Successfully built names\n",
      "Installing collected packages: names\n",
      "Successfully installed names-0.3.0\n",
      "Note: you may need to restart the kernel to use updated packages.\n"
     ]
    }
   ],
   "source": [
    "%pip install names"
   ]
  },
  {
   "cell_type": "code",
   "execution_count": 2,
   "metadata": {},
   "outputs": [],
   "source": [
    "# Simulated Auction\n",
    "from pea import PersistentEnglishAuction\n",
    "from random import randint, uniform, triangular\n",
    "import numpy as np\n",
    "import names\n",
    "\n",
    "# Plotting\n",
    "import matplotlib.pyplot as plt"
   ]
  },
  {
   "cell_type": "markdown",
   "metadata": {},
   "source": [
    "## Auction Setup"
   ]
  },
  {
   "cell_type": "code",
   "execution_count": 12,
   "metadata": {},
   "outputs": [],
   "source": [
    "# Auction configuration presets\n",
    "TIME_BETWEEN_CLEARING = 2\n",
    "MAX_CLEARS = 10\n",
    "AUCTION_START_TIME = 2\n",
    "BIDS = 50\n",
    "\n",
    "# Simulation configuration presets\n",
    "SIMULATION_RUNS = 1000"
   ]
  },
  {
   "cell_type": "code",
   "execution_count": 4,
   "metadata": {},
   "outputs": [],
   "source": [
    "# Create a completely new auction\n",
    "def new_auction(time_between_clearing = TIME_BETWEEN_CLEARING,\n",
    "                max_clears = MAX_CLEARS,\n",
    "                auction_start_time = AUCTION_START_TIME):\n",
    "    return PersistentEnglishAuction(time_between_clearing=time_between_clearing,\n",
    "                                   max_clears=max_clears,\n",
    "                                   auction_start_time=auction_start_time)\n",
    "\n",
    "def apply_bids(auction, x, y):\n",
    "    sorted_indices = np.argsort(x)\n",
    "    x = x[sorted_indices]\n",
    "    y = y[sorted_indices]\n",
    "    \n",
    "    for i in range(len(x)):\n",
    "        auction.add_bid(address=names.get_first_name(), bid=y[i], bid_time=x[i])\n",
    "    auction.close_auction()\n",
    "    \n",
    "def get_revenues(auction):\n",
    "    bidders = auction.get_bidders()\n",
    "    winners = auction.get_winners()\n",
    "    all_bids = np.array([bid[0] for bid in (bidders + winners)])\n",
    "    all_bids = all_bids[np.argsort(all_bids)]\n",
    "    \n",
    "    actual_revenue = sum([-winner[0] for winner in winners])\n",
    "    potential_max_revenue = sum([-bid for bid in all_bids[:MAX_CLEARS]])\n",
    "    return actual_revenue, potential_max_revenue\n",
    "\n",
    "def plot_winnings(auction):\n",
    "    bidders = auction.get_bidders()\n",
    "    winners = auction.get_winners()\n",
    "    \n",
    "    actual_revenue, potential_max_revenue = get_revenues(auction)\n",
    "    print(\"Actual maximum revenue: \", actual_revenue)\n",
    "    print(\"Potential maximum revenue: \", potential_max_revenue)\n",
    "\n",
    "    plt.plot([bidder[1] for bidder in bidders], [(-bidder[0]) for bidder in bidders], 'o', color='black')\n",
    "    plt.plot([winner[1] for winner in winners], [(-winner[0]) for winner in winners], 'o', color=\"orange\")"
   ]
  },
  {
   "cell_type": "markdown",
   "metadata": {},
   "source": [
    "## Simple Linear Generation"
   ]
  },
  {
   "cell_type": "code",
   "execution_count": 5,
   "metadata": {},
   "outputs": [
    {
     "name": "stdout",
     "output_type": "stream",
     "text": [
      "Actual maximum revenue:  851\n",
      "Potential maximum revenue:  866\n"
     ]
    },
    {
     "data": {
      "image/png": "[encoded data removed]",
      "text/plain": [
       "<Figure size 432x288 with 1 Axes>"
      ]
     },
     "metadata": {
      "needs_background": "light"
     },
     "output_type": "display_data"
    }
   ],
   "source": [
    "auction = new_auction()\n",
    "\n",
    "# Generate random bids made in a linear fashion\n",
    "x = np.linspace(0, TIME_BETWEEN_CLEARING * MAX_CLEARS, BIDS)\n",
    "y = np.array([randint(1, 100) for num in x])\n",
    "\n",
    "apply_bids(auction, x, y)\n",
    "plot_winnings(auction)"
   ]
  },
  {
   "cell_type": "code",
   "execution_count": 15,
   "metadata": {},
   "outputs": [
    {
     "name": "stdout",
     "output_type": "stream",
     "text": [
      "Total actual revenue:  882804\n",
      "Total potential maximum revenue:  897160\n",
      "Total Efficiency:  98.4 %\n"
     ]
    }
   ],
   "source": [
    "# Bulk Simulation Runs\n",
    "total_actual_revenue = 0\n",
    "total_potential_max_revenue = 0\n",
    "for run_i in range(0, SIMULATION_RUNS):\n",
    "    auction = new_auction()\n",
    "\n",
    "    # Generate random bids made in a linear fashion\n",
    "    x = np.linspace(0, TIME_BETWEEN_CLEARING * MAX_CLEARS, BIDS)\n",
    "    y = np.array([randint(1, 100) for num in x])\n",
    "\n",
    "    apply_bids(auction, x, y)\n",
    "    actual_revenue, potential_max_revenue = get_revenues(auction)\n",
    "    \n",
    "    total_actual_revenue += actual_revenue\n",
    "    total_potential_max_revenue += potential_max_revenue\n",
    "\n",
    "print(\"Total actual revenue: \", total_actual_revenue)\n",
    "print(\"Total potential maximum revenue: \", total_potential_max_revenue)    \n",
    "print(\"Total Efficiency: \", round(total_actual_revenue / total_potential_max_revenue * 100, 2), \"%\")"
   ]
  },
  {
   "cell_type": "markdown",
   "metadata": {},
   "source": [
    "## Randomised 2D Generation "
   ]
  },
  {
   "cell_type": "code",
   "execution_count": 7,
   "metadata": {},
   "outputs": [
    {
     "name": "stdout",
     "output_type": "stream",
     "text": [
      "Actual maximum revenue:  868\n",
      "Potential maximum revenue:  868\n"
     ]
    },
    {
     "data": {
      "image/png": "[encoded data removed]",
      "text/plain": [
       "<Figure size 432x288 with 1 Axes>"
      ]
     },
     "metadata": {
      "needs_background": "light"
     },
     "output_type": "display_data"
    }
   ],
   "source": [
    "auction = new_auction()\n",
    "\n",
    "# Generate random bids made in a 2D random fashion\n",
    "x = np.array([uniform(0, TIME_BETWEEN_CLEARING * MAX_CLEARS) for _ in range(0, BIDS)])\n",
    "y = np.array([randint(1, 100) for num in x])\n",
    "\n",
    "apply_bids(auction, x, y)\n",
    "plot_winnings(auction)"
   ]
  },
  {
   "cell_type": "code",
   "execution_count": 16,
   "metadata": {},
   "outputs": [
    {
     "name": "stdout",
     "output_type": "stream",
     "text": [
      "Total actual revenue:  878370\n",
      "Total potential maximum revenue:  895080\n",
      "Total Efficiency:  98.13 %\n"
     ]
    }
   ],
   "source": [
    "# Bulk Simulation Runs\n",
    "total_actual_revenue = 0\n",
    "total_potential_max_revenue = 0\n",
    "for run_i in range(0, SIMULATION_RUNS):\n",
    "    auction = new_auction()\n",
    "\n",
    "    # Generate random bids made in a 2D random fashion\n",
    "    x = np.array([uniform(0, TIME_BETWEEN_CLEARING * MAX_CLEARS) for _ in range(0, BIDS)])\n",
    "    y = np.array([randint(1, 100) for num in x])\n",
    "\n",
    "    apply_bids(auction, x, y)\n",
    "    actual_revenue, potential_max_revenue = get_revenues(auction)\n",
    "    \n",
    "    total_actual_revenue += actual_revenue\n",
    "    total_potential_max_revenue += potential_max_revenue\n",
    "\n",
    "print(\"Total actual revenue: \", total_actual_revenue)\n",
    "print(\"Total potential maximum revenue: \", total_potential_max_revenue)    \n",
    "print(\"Total Efficiency: \", round(total_actual_revenue / total_potential_max_revenue * 100, 2), \"%\")"
   ]
  },
  {
   "cell_type": "markdown",
   "metadata": {},
   "source": [
    "## Normal Auction Sniping"
   ]
  },
  {
   "cell_type": "code",
   "execution_count": 8,
   "metadata": {},
   "outputs": [
    {
     "name": "stdout",
     "output_type": "stream",
     "text": [
      "Actual maximum revenue:  828.3106886591974\n",
      "Potential maximum revenue:  873.4383275305822\n"
     ]
    },
    {
     "data": {
      "image/png": "[encoded data removed]",
      "text/plain": [
       "<Figure size 432x288 with 1 Axes>"
      ]
     },
     "metadata": {
      "needs_background": "light"
     },
     "output_type": "display_data"
    }
   ],
   "source": [
    "auction = new_auction()\n",
    "\n",
    "# Generate random bids\n",
    "x = np.array([triangular(0, TIME_BETWEEN_CLEARING * MAX_CLEARS, TIME_BETWEEN_CLEARING * MAX_CLEARS) for _ in range(0, BIDS)])\n",
    "y = np.array([triangular(0, 100, 100) for num in x])\n",
    "\n",
    "apply_bids(auction, x, y)\n",
    "plot_winnings(auction)"
   ]
  },
  {
   "cell_type": "code",
   "execution_count": 17,
   "metadata": {},
   "outputs": [
    {
     "name": "stdout",
     "output_type": "stream",
     "text": [
      "Total actual revenue:  870901.5937631133\n",
      "Total potential maximum revenue:  944381.4656902421\n",
      "Total Efficiency:  92.22 %\n"
     ]
    }
   ],
   "source": [
    "# Bulk Simulation Runs\n",
    "total_actual_revenue = 0\n",
    "total_potential_max_revenue = 0\n",
    "for run_i in range(0, SIMULATION_RUNS):\n",
    "    auction = new_auction()\n",
    "\n",
    "    # Generate random bids\n",
    "    x = np.array([triangular(0, TIME_BETWEEN_CLEARING * MAX_CLEARS, TIME_BETWEEN_CLEARING * MAX_CLEARS) for _ in range(0, BIDS)])\n",
    "    y = np.array([triangular(0, 100, 100) for num in x])\n",
    "\n",
    "    apply_bids(auction, x, y)\n",
    "    actual_revenue, potential_max_revenue = get_revenues(auction)\n",
    "    \n",
    "    total_actual_revenue += actual_revenue\n",
    "    total_potential_max_revenue += potential_max_revenue\n",
    "\n",
    "print(\"Total actual revenue: \", total_actual_revenue)\n",
    "print(\"Total potential maximum revenue: \", total_potential_max_revenue)    \n",
    "print(\"Total Efficiency: \", round(total_actual_revenue / total_potential_max_revenue * 100, 2), \"%\")"
   ]
  },
  {
   "cell_type": "markdown",
   "metadata": {},
   "source": [
    "## Attuned Auction Sniping"
   ]
  },
  {
   "cell_type": "code",
   "execution_count": 9,
   "metadata": {},
   "outputs": [
    {
     "name": "stdout",
     "output_type": "stream",
     "text": [
      "Actual maximum revenue:  924.79446955151\n",
      "Potential maximum revenue:  936.3398472017616\n"
     ]
    },
    {
     "data": {
      "image/png": "[encoded data removed]",
      "text/plain": [
       "<Figure size 432x288 with 1 Axes>"
      ]
     },
     "metadata": {
      "needs_background": "light"
     },
     "output_type": "display_data"
    }
   ],
   "source": [
    "auction = new_auction()\n",
    "\n",
    "# Generate random bids\n",
    "x = np.array([[triangular(i * TIME_BETWEEN_CLEARING, (i + 1) * TIME_BETWEEN_CLEARING, (i + 1) * TIME_BETWEEN_CLEARING) for i in range(0, MAX_CLEARS)][randint(0, MAX_CLEARS - 1)] for _ in range(0, BIDS)])\n",
    "y = np.array([triangular(0, 100, 100) for num in x])\n",
    "\n",
    "apply_bids(auction, x, y)\n",
    "plot_winnings(auction)"
   ]
  },
  {
   "cell_type": "code",
   "execution_count": 19,
   "metadata": {},
   "outputs": [
    {
     "name": "stdout",
     "output_type": "stream",
     "text": [
      "Total actual revenue:  932610.9502245624\n",
      "Total potential maximum revenue:  943351.2160284838\n",
      "Total Efficiency:  98.86 %\n"
     ]
    }
   ],
   "source": [
    "# Bulk Simulation Runs\n",
    "total_actual_revenue = 0\n",
    "total_potential_max_revenue = 0\n",
    "for run_i in range(0, SIMULATION_RUNS):\n",
    "    auction = new_auction()\n",
    "\n",
    "    # Generate random bids\n",
    "    x = np.array([[triangular(i * TIME_BETWEEN_CLEARING, (i + 1) * TIME_BETWEEN_CLEARING, (i + 1) * TIME_BETWEEN_CLEARING) for i in range(0, MAX_CLEARS)][randint(0, MAX_CLEARS - 1)] for _ in range(0, BIDS)])\n",
    "    y = np.array([triangular(0, 100, 100) for num in x])\n",
    "\n",
    "    apply_bids(auction, x, y)\n",
    "    actual_revenue, potential_max_revenue = get_revenues(auction)\n",
    "    \n",
    "    total_actual_revenue += actual_revenue\n",
    "    total_potential_max_revenue += potential_max_revenue\n",
    "\n",
    "print(\"Total actual revenue: \", total_actual_revenue)\n",
    "print(\"Total potential maximum revenue: \", total_potential_max_revenue)    \n",
    "print(\"Total Efficiency: \", round(total_actual_revenue / total_potential_max_revenue * 100, 2), \"%\")"
   ]
  }
 ],
 "metadata": {
  "interpreter": {
   "hash": "aee8b7b246df8f9039afb4144a1f6fd8d2ca17a180786b69acc140d282b71a49"
  },
  "kernelspec": {
   "display_name": "Python 3 (ipykernel)",
   "language": "python",
   "name": "python3"
  },
  "language_info": {
   "codemirror_mode": {
    "name": "ipython",
    "version": 3
   },
   "file_extension": ".py",
   "mimetype": "text/x-python",
   "name": "python",
   "nbconvert_exporter": "python",
   "pygments_lexer": "ipython3",
   "version": "3.9.10"
  }
 },
 "nbformat": 4,
 "nbformat_minor": 4
}
