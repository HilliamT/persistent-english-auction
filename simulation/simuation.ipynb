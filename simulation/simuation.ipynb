{
 "cells": [
  {
   "cell_type": "code",
   "execution_count": 24,
   "metadata": {},
   "outputs": [],
   "source": [
    "# Imports heapq module\n",
    "from random import randint\n",
    "from pea import PersistentEnglishAuction\n",
    "\n",
    "import matplotlib.pyplot as plt\n",
    "import numpy as np\n",
    "import names"
   ]
  },
  {
   "cell_type": "code",
   "execution_count": 167,
   "metadata": {},
   "outputs": [
    {
     "name": "stdout",
     "output_type": "stream",
     "text": [
      "9\n",
      "[(-96, 0.8163265306122449, 'Gordon'), (-73, 2.0408163265306123, 'Karen'), (-62, 3.2653061224489797, 'Dorothy'), (-93, 6.938775510204081, 'Gregory'), (-82, 6.122448979591837, 'Joann'), (-90, 10.612244897959183, 'John'), (-98, 13.877551020408163, 'Clarence'), (-95, 12.244897959183675, 'Amy'), (-95, 17.551020408163264, 'Louise')]\n"
     ]
    },
    {
     "data": {
      "text/plain": [
       "[<matplotlib.lines.Line2D at 0x7fcf444fe1f0>]"
      ]
     },
     "execution_count": 167,
     "metadata": {},
     "output_type": "execute_result"
    },
    {
     "data": {
      "image/png": "[encoded data removed]",
      "text/plain": [
       "<Figure size 432x288 with 1 Axes>"
      ]
     },
     "metadata": {
      "needs_background": "light"
     },
     "output_type": "display_data"
    }
   ],
   "source": [
    "# Simulate\n",
    "auction = PersistentEnglishAuction(time_between_clearing=2, max_clears=10, auction_start_time=2)\n",
    "\n",
    "# generate times to bid\n",
    "x = np.linspace(0, 20, 50)\n",
    "\n",
    "# Generate random value to bid\n",
    "y = [randint(1, 100) for num in x]\n",
    "\n",
    "for i in range(len(x)):\n",
    "    auction.add_bid(address=names.get_first_name(), bid=y[i], bid_time=x[i])\n",
    "\n",
    "\n",
    "bidders = auction.get_bidders()\n",
    "winners = auction.get_winners()\n",
    "\n",
    "plt.plot([bidder[1] for bidder in bidders], [(-bidder[0]) for bidder in bidders], 'o', color='black')\n",
    "plt.plot([winner[1] for winner in winners], [(-winner[0]) for winner in winners], 'o', color=\"orange\")"
   ]
  }
 ],
 "metadata": {
  "interpreter": {
   "hash": "aee8b7b246df8f9039afb4144a1f6fd8d2ca17a180786b69acc140d282b71a49"
  },
  "kernelspec": {
   "display_name": "Python 3 (ipykernel)",
   "language": "python",
   "name": "python3"
  },
  "language_info": {
   "codemirror_mode": {
    "name": "ipython",
    "version": 3
   },
   "file_extension": ".py",
   "mimetype": "text/x-python",
   "name": "python",
   "nbconvert_exporter": "python",
   "pygments_lexer": "ipython3",
   "version": "3.9.10"
  }
 },
 "nbformat": 4,
 "nbformat_minor": 4
}
