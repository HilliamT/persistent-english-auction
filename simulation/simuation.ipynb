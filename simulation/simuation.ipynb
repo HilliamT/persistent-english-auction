{
 "cells": [
  {
   "cell_type": "markdown",
   "metadata": {},
   "source": [
    "# Persistent English Auctions - Simulation\n",
    "\n",
    "A sequential clearing auction mechanism inspired by English auctions for maximising bid transparency and revenue.\n",
    "\n",
    "We consider the situation in which a NFT artist would like to sell a collection of NFTs. They do not know what would be a fair price and thus resort to an auction.\n",
    "\n",
    "In a persistent English auction, the auctioneer decides the rate at which NFTs should be sold at e.g 1 NFT per hour. Whilst the auction is active, potential buyers can register bids. In theory, at the end of every hour (a clearing round), a sale is made to the highest bidder. This is done until all pieces are sold.\n",
    "\n",
    "Lazy evaluation is used to amortise the cost of operating the auction on the blockchain. Before a bid is made, the time gap between the previous transaction is calculated to see if any previous clearing rounds need to be processed. This is inspired by the concept of virtual orders used in [TWAMMs](https://www.paradigm.xyz/2021/07/twamm#the-time-weighted-average-market-maker).\n",
    "\n",
    "Upon auction close, participants can mint their NFTs and/or claim their funds from unsuccessful bids.\n",
    "\n",
    "This notebook simulates the running of a persistent English auction due to the simple mechanism to choose the winner every clearing round."
   ]
  },
  {
   "cell_type": "markdown",
   "metadata": {},
   "source": [
    "## Dependencies"
   ]
  },
  {
   "cell_type": "code",
   "execution_count": 2,
   "metadata": {},
   "outputs": [
    {
     "name": "stdout",
     "output_type": "stream",
     "text": [
      "Requirement already satisfied: names in /opt/conda/lib/python3.9/site-packages (0.3.0)\n",
      "Note: you may need to restart the kernel to use updated packages.\n"
     ]
    }
   ],
   "source": [
    "%pip install names"
   ]
  },
  {
   "cell_type": "code",
   "execution_count": 3,
   "metadata": {},
   "outputs": [],
   "source": [
    "# Simulated Auction\n",
    "from pea import PersistentEnglishAuction\n",
    "from random import randint, uniform, triangular\n",
    "import numpy as np\n",
    "import names\n",
    "\n",
    "# Plotting\n",
    "import matplotlib.pyplot as plt"
   ]
  },
  {
   "cell_type": "markdown",
   "metadata": {},
   "source": [
    "## Auction Setup"
   ]
  },
  {
   "cell_type": "code",
   "execution_count": 4,
   "metadata": {},
   "outputs": [],
   "source": [
    "# Auction configuration presets\n",
    "TIME_BETWEEN_CLEARING = 2\n",
    "MAX_CLEARS = 10\n",
    "AUCTION_START_TIME = 2\n",
    "BIDS = 50\n",
    "\n",
    "# Create a completely new auction\n",
    "def new_auction(time_between_clearing = TIME_BETWEEN_CLEARING,\n",
    "                max_clears = MAX_CLEARS,\n",
    "                auction_start_time = AUCTION_START_TIME):\n",
    "    return PersistentEnglishAuction(time_between_clearing=time_between_clearing,\n",
    "                                   max_clears=max_clears,\n",
    "                                   auction_start_time=auction_start_time)\n",
    "\n",
    "def apply_bids(auction, x, y):\n",
    "    sorted_indices = np.argsort(x)\n",
    "    x = x[sorted_indices]\n",
    "    y = y[sorted_indices]\n",
    "    \n",
    "    for i in range(len(x)):\n",
    "        auction.add_bid(address=names.get_first_name(), bid=y[i], bid_time=x[i])\n",
    "    auction.close_auction()\n",
    "\n",
    "def plot_winnings(auction):\n",
    "    bidders = auction.get_bidders()\n",
    "    winners = auction.get_winners()\n",
    "    all_bids = np.array([bid[0] for bid in (bidders + winners)])\n",
    "    all_bids = all_bids[np.argsort(all_bids)]\n",
    "    \n",
    "    potential_max_revenue = sum([-bid for bid in all_bids[:MAX_CLEARS]])\n",
    "    actual_max_revenue = sum([-winner[0] for winner in winners])\n",
    "\n",
    "    print(\"Actual maximum revenue: \", actual_max_revenue)\n",
    "    print(\"Potential maximum revenue: \", potential_max_revenue)\n",
    "\n",
    "    plt.plot([bidder[1] for bidder in bidders], [(-bidder[0]) for bidder in bidders], 'o', color='black')\n",
    "    plt.plot([winner[1] for winner in winners], [(-winner[0]) for winner in winners], 'o', color=\"orange\")"
   ]
  },
  {
   "cell_type": "markdown",
   "metadata": {},
   "source": [
    "## Simple Linear Generation"
   ]
  },
  {
   "cell_type": "code",
   "execution_count": 5,
   "metadata": {},
   "outputs": [
    {
     "name": "stdout",
     "output_type": "stream",
     "text": [
      "Actual maximum revenue:  839\n",
      "Potential maximum revenue:  857\n"
     ]
    },
    {
     "data": {
      "image/png": "[encoded data removed]",
      "text/plain": [
       "<Figure size 432x288 with 1 Axes>"
      ]
     },
     "metadata": {
      "needs_background": "light"
     },
     "output_type": "display_data"
    }
   ],
   "source": [
    "auction = new_auction()\n",
    "\n",
    "# Generate random bids made in a linear fashion\n",
    "x = np.linspace(0, TIME_BETWEEN_CLEARING * MAX_CLEARS, BIDS)\n",
    "y = np.array([randint(1, 100) for num in x])\n",
    "\n",
    "apply_bids(auction, x, y)\n",
    "plot_winnings(auction)"
   ]
  },
  {
   "cell_type": "markdown",
   "metadata": {},
   "source": [
    "## Randomised 2D Generation "
   ]
  },
  {
   "cell_type": "code",
   "execution_count": 6,
   "metadata": {},
   "outputs": [
    {
     "name": "stdout",
     "output_type": "stream",
     "text": [
      "Actual maximum revenue:  889\n",
      "Potential maximum revenue:  910\n"
     ]
    },
    {
     "data": {
      "image/png": "[encoded data removed]",
      "text/plain": [
       "<Figure size 432x288 with 1 Axes>"
      ]
     },
     "metadata": {
      "needs_background": "light"
     },
     "output_type": "display_data"
    }
   ],
   "source": [
    "auction = new_auction()\n",
    "\n",
    "# Generate random bids made in a 2D random fashion\n",
    "x = np.array([uniform(0, TIME_BETWEEN_CLEARING * MAX_CLEARS) for _ in range(0, BIDS)])\n",
    "y = np.array([randint(1, 100) for num in x])\n",
    "\n",
    "apply_bids(auction, x, y)\n",
    "plot_winnings(auction)"
   ]
  },
  {
   "cell_type": "markdown",
   "metadata": {},
   "source": [
    "## Normal Auction Sniping"
   ]
  },
  {
   "cell_type": "code",
   "execution_count": 23,
   "metadata": {},
   "outputs": [
    {
     "name": "stdout",
     "output_type": "stream",
     "text": [
      "Actual maximum revenue:  919.0797392663625\n",
      "Potential maximum revenue:  929.9913856216314\n"
     ]
    },
    {
     "data": {
      "image/png": "[encoded data removed]",
      "text/plain": [
       "<Figure size 432x288 with 1 Axes>"
      ]
     },
     "metadata": {
      "needs_background": "light"
     },
     "output_type": "display_data"
    }
   ],
   "source": [
    "auction = new_auction()\n",
    "\n",
    "# Generate random bids\n",
    "x = np.array([triangular(0, TIME_BETWEEN_CLEARING * MAX_CLEARS, TIME_BETWEEN_CLEARING * MAX_CLEARS) for _ in range(0, BIDS)])\n",
    "y = np.array([triangular(0, 100, 100) for num in x])\n",
    "\n",
    "apply_bids(auction, x, y)\n",
    "plot_winnings(auction)"
   ]
  },
  {
   "cell_type": "markdown",
   "metadata": {},
   "source": [
    "## Attuned Auction Sniping"
   ]
  },
  {
   "cell_type": "code",
   "execution_count": 22,
   "metadata": {},
   "outputs": [
    {
     "name": "stdout",
     "output_type": "stream",
     "text": [
      "Actual maximum revenue:  957.5821212269644\n",
      "Potential maximum revenue:  957.5821212269647\n"
     ]
    },
    {
     "data": {
      "image/png": "[encoded data removed]",
      "text/plain": [
       "<Figure size 432x288 with 1 Axes>"
      ]
     },
     "metadata": {
      "needs_background": "light"
     },
     "output_type": "display_data"
    }
   ],
   "source": [
    "auction = new_auction()\n",
    "\n",
    "# Generate random bids\n",
    "x = np.array([[triangular(i * TIME_BETWEEN_CLEARING, (i + 1) * TIME_BETWEEN_CLEARING, (i + 1) * TIME_BETWEEN_CLEARING) for i in range(0, MAX_CLEARS)][randint(0, MAX_CLEARS - 1)] for _ in range(0, BIDS)])\n",
    "y = np.array([triangular(0, 100, 100) for num in x])\n",
    "\n",
    "apply_bids(auction, x, y)\n",
    "plot_winnings(auction)"
   ]
  }
 ],
 "metadata": {
  "interpreter": {
   "hash": "aee8b7b246df8f9039afb4144a1f6fd8d2ca17a180786b69acc140d282b71a49"
  },
  "kernelspec": {
   "display_name": "Python 3 (ipykernel)",
   "language": "python",
   "name": "python3"
  },
  "language_info": {
   "codemirror_mode": {
    "name": "ipython",
    "version": 3
   },
   "file_extension": ".py",
   "mimetype": "text/x-python",
   "name": "python",
   "nbconvert_exporter": "python",
   "pygments_lexer": "ipython3",
   "version": "3.9.10"
  }
 },
 "nbformat": 4,
 "nbformat_minor": 4
}
